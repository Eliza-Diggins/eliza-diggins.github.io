{
 "cells": [
  {
   "cell_type": "markdown",
   "metadata": {},
   "source": [
    "# Leaflet cluster map of talk locations\n",
    "\n",
    "Run this from the _talks/ directory, which contains .md files of all your talks. This scrapes the location YAML field from each .md file, geolocates it with geopy/Nominatim, and uses the getorg library to output data, HTML, and Javascript for a standalone cluster map."
   ]
  },
  {
   "cell_type": "code",
   "metadata": {
    "collapsed": false,
    "ExecuteTime": {
     "end_time": "2025-06-08T23:08:33.530154Z",
     "start_time": "2025-06-08T23:08:32.876108Z"
    }
   },
   "source": [
    "!pip install getorg --upgrade\n",
    "import glob\n",
    "import getorg\n",
    "from geopy import Nominatim\n",
    "import os\n",
    "\n",
    "root_dir = os.getcwd()"
   ],
   "outputs": [
    {
     "name": "stdout",
     "output_type": "stream",
     "text": [
      "Requirement already satisfied: getorg in ./.venv/lib/python3.12/site-packages (0.3.1)\r\n",
      "Requirement already satisfied: geopy in ./.venv/lib/python3.12/site-packages (from getorg) (2.4.1)\r\n",
      "Requirement already satisfied: pygithub in ./.venv/lib/python3.12/site-packages (from getorg) (2.6.1)\r\n",
      "Requirement already satisfied: retrying in ./.venv/lib/python3.12/site-packages (from getorg) (1.3.4)\r\n",
      "Requirement already satisfied: geographiclib<3,>=1.52 in ./.venv/lib/python3.12/site-packages (from geopy->getorg) (2.0)\r\n",
      "Requirement already satisfied: pynacl>=1.4.0 in ./.venv/lib/python3.12/site-packages (from pygithub->getorg) (1.5.0)\r\n",
      "Requirement already satisfied: requests>=2.14.0 in ./.venv/lib/python3.12/site-packages (from pygithub->getorg) (2.32.3)\r\n",
      "Requirement already satisfied: pyjwt>=2.4.0 in ./.venv/lib/python3.12/site-packages (from pyjwt[crypto]>=2.4.0->pygithub->getorg) (2.10.1)\r\n",
      "Requirement already satisfied: typing-extensions>=4.0.0 in ./.venv/lib/python3.12/site-packages (from pygithub->getorg) (4.14.0)\r\n",
      "Requirement already satisfied: urllib3>=1.26.0 in ./.venv/lib/python3.12/site-packages (from pygithub->getorg) (2.4.0)\r\n",
      "Requirement already satisfied: Deprecated in ./.venv/lib/python3.12/site-packages (from pygithub->getorg) (1.2.18)\r\n",
      "Requirement already satisfied: cryptography>=3.4.0 in ./.venv/lib/python3.12/site-packages (from pyjwt[crypto]>=2.4.0->pygithub->getorg) (45.0.3)\r\n",
      "Requirement already satisfied: cffi>=1.14 in ./.venv/lib/python3.12/site-packages (from cryptography>=3.4.0->pyjwt[crypto]>=2.4.0->pygithub->getorg) (1.17.1)\r\n",
      "Requirement already satisfied: pycparser in ./.venv/lib/python3.12/site-packages (from cffi>=1.14->cryptography>=3.4.0->pyjwt[crypto]>=2.4.0->pygithub->getorg) (2.22)\r\n",
      "Requirement already satisfied: charset-normalizer<4,>=2 in ./.venv/lib/python3.12/site-packages (from requests>=2.14.0->pygithub->getorg) (3.4.2)\r\n",
      "Requirement already satisfied: idna<4,>=2.5 in ./.venv/lib/python3.12/site-packages (from requests>=2.14.0->pygithub->getorg) (3.10)\r\n",
      "Requirement already satisfied: certifi>=2017.4.17 in ./.venv/lib/python3.12/site-packages (from requests>=2.14.0->pygithub->getorg) (2025.4.26)\r\n",
      "Requirement already satisfied: wrapt<2,>=1.10 in ./.venv/lib/python3.12/site-packages (from Deprecated->pygithub->getorg) (1.17.2)\r\n",
      "Requirement already satisfied: six>=1.7.0 in ./.venv/lib/python3.12/site-packages (from retrying->getorg) (1.17.0)\r\n",
      "Iywidgets and ipyleaflet support disabled. You must be in a Jupyter notebook to use this feature.\n",
      "Error raised:\n",
      "No module named 'ipywidgets'\n",
      "Check that you have enabled ipyleaflet in Jupyter with:\n",
      "    jupyter nbextension enable --py ipyleaflet\n"
     ]
    }
   ],
   "execution_count": 1
  },
  {
   "metadata": {
    "ExecuteTime": {
     "end_time": "2025-06-08T23:11:33.652919Z",
     "start_time": "2025-06-08T23:11:33.631007Z"
    }
   },
   "cell_type": "code",
   "source": [
    "import ssl\n",
    "import certifi\n",
    "\n",
    "ctx = ssl.create_default_context(cafile=certifi.where())\n"
   ],
   "outputs": [],
   "execution_count": 8
  },
  {
   "cell_type": "code",
   "metadata": {
    "collapsed": false,
    "ExecuteTime": {
     "end_time": "2025-06-08T23:08:35.102096Z",
     "start_time": "2025-06-08T23:08:35.098107Z"
    }
   },
   "source": [
    "import os\n",
    "os.chdir(root_dir+\"/_talks\")\n",
    "g = glob.glob(\"*.md\")\n",
    "print(g)"
   ],
   "outputs": [
    {
     "name": "stdout",
     "output_type": "stream",
     "text": [
      "['2024-09-10-AOT.md', '2024-04-08_thesis.md', '2025-04-20-AOT.md', '2022-12-05-mond-talk.md', '2023_10_21_APS-4C.md']\n"
     ]
    }
   ],
   "execution_count": 2
  },
  {
   "cell_type": "code",
   "metadata": {
    "collapsed": true,
    "ExecuteTime": {
     "end_time": "2025-06-08T23:11:41.309129Z",
     "start_time": "2025-06-08T23:11:41.302739Z"
    }
   },
   "source": [
    "geocoder = Nominatim(user_agent='talkmap',ssl_context=ctx)\n",
    "location_dict = {}\n",
    "location = \"\"\n",
    "permalink = \"\"\n",
    "title = \"\""
   ],
   "outputs": [],
   "execution_count": 9
  },
  {
   "cell_type": "code",
   "metadata": {
    "collapsed": false,
    "ExecuteTime": {
     "end_time": "2025-06-08T23:11:50.073066Z",
     "start_time": "2025-06-08T23:11:42.860039Z"
    }
   },
   "source": [
    "import os\n",
    "print(os.getcwd())\n",
    "\n",
    "for file in g:\n",
    "    with open(file, 'r') as f:\n",
    "        lines = f.read()\n",
    "        if lines.find('location: \"') > 1:\n",
    "            loc_start = lines.find('location: \"') + 11\n",
    "            lines_trim = lines[loc_start:]\n",
    "            loc_end = lines_trim.find('\"')\n",
    "            location = lines_trim[:loc_end]\n",
    "                            \n",
    "           \n",
    "        location_dict[location] = geocoder.geocode(location)\n",
    "        print(location, \"\\n\", location_dict[location])\n"
   ],
   "outputs": [
    {
     "name": "stdout",
     "output_type": "stream",
     "text": [
      "/Users/ediggins/Dev/eliza-diggins.github.io/_talks\n",
      "Salt Lake City, Utah \n",
      " Salt Lake City, Salt Lake County, Utah, United States\n",
      "Salt Lake City, Utah \n",
      " Salt Lake City, Salt Lake County, Utah, United States\n",
      "Salt Lake City, Utah \n",
      " Salt Lake City, Salt Lake County, Utah, United States\n",
      "Salt Lake City, Utah \n",
      " Salt Lake City, Salt Lake County, Utah, United States\n",
      "Logan, Utah \n",
      " Logan, Cache County, Utah, United States\n"
     ]
    }
   ],
   "execution_count": 10
  },
  {
   "cell_type": "code",
   "metadata": {
    "collapsed": false,
    "ExecuteTime": {
     "end_time": "2025-06-08T23:11:51.653969Z",
     "start_time": "2025-06-08T23:11:51.649030Z"
    }
   },
   "source": [
    "m = getorg.orgmap.create_map_obj()\n",
    "getorg.orgmap.output_html_cluster_map(location_dict, folder_name=\"../talkmap\", hashed_usernames=False)"
   ],
   "outputs": [
    {
     "data": {
      "text/plain": [
       "'Written map to ../talkmap/'"
      ]
     },
     "execution_count": 11,
     "metadata": {},
     "output_type": "execute_result"
    }
   ],
   "execution_count": 11
  },
  {
   "cell_type": "code",
   "execution_count": null,
   "metadata": {
    "collapsed": true
   },
   "outputs": [],
   "source": []
  }
 ],
 "metadata": {
  "anaconda-cloud": {},
  "kernelspec": {
   "display_name": "Python 3 (ipykernel)",
   "language": "python",
   "name": "python3"
  },
  "language_info": {
   "codemirror_mode": {
    "name": "ipython",
    "version": 3
   },
   "file_extension": ".py",
   "mimetype": "text/x-python",
   "name": "python",
   "nbconvert_exporter": "python",
   "pygments_lexer": "ipython3",
   "version": "3.5.2"
  }
 },
 "nbformat": 4,
 "nbformat_minor": 0
}
